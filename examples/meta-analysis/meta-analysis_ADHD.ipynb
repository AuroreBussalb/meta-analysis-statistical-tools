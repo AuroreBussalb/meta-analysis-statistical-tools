{
 "cells": [
  {
   "cell_type": "markdown",
   "metadata": {},
   "source": [
    "# Perform a meta-analysis"
   ]
  },
  {
   "cell_type": "markdown",
   "metadata": {},
   "source": [
    "The replication and update of the meta-analysis is performed thanks to a Python Package. All values required to perform the meta-analysis are stored in a csv file. All csv files used in *Bussalb et al.* are available:\n",
    "1. for the replication with our choices: \n",
    "   * *values_total_meta_analysis_cortese.csv*, \n",
    "   * *values_inattention_meta_analysis_cortese.csv*, \n",
    "   * *values_hyperactivity_meta_analysis_cortese.csv*;\n",
    "2. for the update: \n",
    "   * *values_total_meta_analysis.csv*, \n",
    "   * *values_inattention_meta_analysis.csv*, \n",
    "   * *values_hyperactivity_meta_analysis.csv*;\n",
    "3. for the subgroup analysis: \n",
    "   * standard protocol: \n",
    "     * *values_total_meta_analysis_sd.csv*, \n",
    "     * *values_inattention_meta_analysis_sd.csv*, \n",
    "     * *values_hyperactivity_meta_analysis_sd.csv*;   \n",
    "   * low/no medication: \n",
    "     * *values_total_meta_analysis_wm.csv*, \n",
    "     * *values_inattention_meta_analysis_wm.csv*,\n",
    "     * *values_hyperactivity_meta_analysis_wm.csv*.\n",
    "\n",
    "Meta-analysis can be run for three outcomes: total, inattention and hyperactivity."
   ]
  },
  {
   "cell_type": "markdown",
   "metadata": {},
   "source": [
    "## Import raw data"
   ]
  },
  {
   "cell_type": "markdown",
   "metadata": {},
   "source": [
    "The name of the csv file to import must be modified according to the outcome we want to study. Do not forget to change the path given in ```sys.path.append```, it corresponds to the path where the packages are."
   ]
  },
  {
   "cell_type": "code",
   "execution_count": 1,
   "metadata": {
    "collapsed": true
   },
   "outputs": [],
   "source": [
    "import numpy as np\n",
    "import scipy.stats as scp\n",
    "import pandas as pd\n",
    "import warnings\n",
    "import matplotlib.pyplot as plt\n",
    "from IPython.display import display\n",
    "import sys\n",
    "\n",
    "# Add the path where the packages are\n",
    "sys.path.append(r\"C:\\Users\\Aurore Bussalb\\Desktop\\github_repo\\source\")\n",
    "import meta_analysis.import_csv_for_meta_analysis as icm\n",
    "import meta_analysis.perform_meta_analysis as pma\n",
    "\n",
    "%matplotlib inline\n",
    "\n",
    "# Import data from a csv file\n",
    "df_parents, df_teachers = icm.import_csv(r\"data-replication\\values_total_meta_analysis_cortese.csv\")"
   ]
  },
  {
   "cell_type": "markdown",
   "metadata": {},
   "source": [
    "## Run the meta-analysis"
   ]
  },
  {
   "cell_type": "markdown",
   "metadata": {},
   "source": [
    "If you want to run the meta-analysis on parents assessments put ```df_parents``` as ```run_meta_analysis``` first argument, otherwise put ```df_teachers```. For more information, see the documentation of that module in ```documentation\\package-documentation```."
   ]
  },
  {
   "cell_type": "code",
   "execution_count": 2,
   "metadata": {},
   "outputs": [
    {
     "data": {
      "text/html": [
       "<div>\n",
       "<style>\n",
       "    .dataframe thead tr:only-child th {\n",
       "        text-align: right;\n",
       "    }\n",
       "\n",
       "    .dataframe thead th {\n",
       "        text-align: left;\n",
       "    }\n",
       "\n",
       "    .dataframe tbody tr th {\n",
       "        vertical-align: top;\n",
       "    }\n",
       "</style>\n",
       "<table border=\"1\" class=\"dataframe\">\n",
       "  <thead>\n",
       "    <tr style=\"text-align: right;\">\n",
       "      <th></th>\n",
       "      <th>95% Confidence interval of the ES</th>\n",
       "      <th>Effect size</th>\n",
       "      <th>Standard Error of the ES</th>\n",
       "      <th>Weight</th>\n",
       "      <th>Year</th>\n",
       "    </tr>\n",
       "  </thead>\n",
       "  <tbody>\n",
       "    <tr>\n",
       "      <th>Bakhshayesh</th>\n",
       "      <td>(-1.56662730546, 0.00637572245143)</td>\n",
       "      <td>-0.780126</td>\n",
       "      <td>0.401276</td>\n",
       "      <td>7.207052</td>\n",
       "      <td>2011</td>\n",
       "    </tr>\n",
       "    <tr>\n",
       "      <th>Beauregard</th>\n",
       "      <td>(-2.57759670661, 0.150008119118)</td>\n",
       "      <td>-1.213794</td>\n",
       "      <td>0.695818</td>\n",
       "      <td>2.965914</td>\n",
       "      <td>2006</td>\n",
       "    </tr>\n",
       "    <tr>\n",
       "      <th>Bink</th>\n",
       "      <td>(-0.521766137824, 0.458431030637)</td>\n",
       "      <td>-0.031668</td>\n",
       "      <td>0.250050</td>\n",
       "      <td>12.775565</td>\n",
       "      <td>2014</td>\n",
       "    </tr>\n",
       "    <tr>\n",
       "      <th>Christiansen</th>\n",
       "      <td>(-0.256845525397, 1.41978529491)</td>\n",
       "      <td>0.581470</td>\n",
       "      <td>0.427712</td>\n",
       "      <td>6.569916</td>\n",
       "      <td>2014</td>\n",
       "    </tr>\n",
       "    <tr>\n",
       "      <th>Gevenlesben</th>\n",
       "      <td>(-0.983496109633, -0.0823758261328)</td>\n",
       "      <td>-0.532936</td>\n",
       "      <td>0.229878</td>\n",
       "      <td>13.825537</td>\n",
       "      <td>2009</td>\n",
       "    </tr>\n",
       "    <tr>\n",
       "      <th>Heinrich</th>\n",
       "      <td>(-1.94195716809, 0.185718188896)</td>\n",
       "      <td>-0.878119</td>\n",
       "      <td>0.542774</td>\n",
       "      <td>4.529531</td>\n",
       "      <td>2004</td>\n",
       "    </tr>\n",
       "    <tr>\n",
       "      <th>Maurizio</th>\n",
       "      <td>(-1.18517798013, 0.507489334425)</td>\n",
       "      <td>-0.338844</td>\n",
       "      <td>0.431803</td>\n",
       "      <td>6.478028</td>\n",
       "      <td>2014</td>\n",
       "    </tr>\n",
       "    <tr>\n",
       "      <th>VanDongen</th>\n",
       "      <td>(-0.811062376013, 0.459514524085)</td>\n",
       "      <td>-0.175774</td>\n",
       "      <td>0.324127</td>\n",
       "      <td>9.579446</td>\n",
       "      <td>2013</td>\n",
       "    </tr>\n",
       "    <tr>\n",
       "      <th>Steiner2014</th>\n",
       "      <td>(-0.878226933433, 0.108857350947)</td>\n",
       "      <td>-0.384685</td>\n",
       "      <td>0.251807</td>\n",
       "      <td>12.687809</td>\n",
       "      <td>2014</td>\n",
       "    </tr>\n",
       "    <tr>\n",
       "      <th>Holtmann</th>\n",
       "      <td>(-0.627934235248, 0.785090904343)</td>\n",
       "      <td>0.078578</td>\n",
       "      <td>0.360466</td>\n",
       "      <td>8.356655</td>\n",
       "      <td>2009</td>\n",
       "    </tr>\n",
       "    <tr>\n",
       "      <th>Steiner</th>\n",
       "      <td>(-2.51026291425, 0.0291257550818)</td>\n",
       "      <td>-1.240569</td>\n",
       "      <td>0.647803</td>\n",
       "      <td>3.360752</td>\n",
       "      <td>2011</td>\n",
       "    </tr>\n",
       "    <tr>\n",
       "      <th>Arnold</th>\n",
       "      <td>(-0.505684247677, 0.874236259849)</td>\n",
       "      <td>0.184276</td>\n",
       "      <td>0.352021</td>\n",
       "      <td>8.622875</td>\n",
       "      <td>2013</td>\n",
       "    </tr>\n",
       "    <tr>\n",
       "      <th>Linden</th>\n",
       "      <td>(-2.57607258663, 0.113109623671)</td>\n",
       "      <td>-1.231481</td>\n",
       "      <td>0.686016</td>\n",
       "      <td>3.040920</td>\n",
       "      <td>1996</td>\n",
       "    </tr>\n",
       "  </tbody>\n",
       "</table>\n",
       "</div>"
      ],
      "text/plain": [
       "                 95% Confidence interval of the ES  Effect size  \\\n",
       "Bakhshayesh     (-1.56662730546, 0.00637572245143)    -0.780126   \n",
       "Beauregard        (-2.57759670661, 0.150008119118)    -1.213794   \n",
       "Bink             (-0.521766137824, 0.458431030637)    -0.031668   \n",
       "Christiansen      (-0.256845525397, 1.41978529491)     0.581470   \n",
       "Gevenlesben    (-0.983496109633, -0.0823758261328)    -0.532936   \n",
       "Heinrich          (-1.94195716809, 0.185718188896)    -0.878119   \n",
       "Maurizio          (-1.18517798013, 0.507489334425)    -0.338844   \n",
       "VanDongen        (-0.811062376013, 0.459514524085)    -0.175774   \n",
       "Steiner2014      (-0.878226933433, 0.108857350947)    -0.384685   \n",
       "Holtmann         (-0.627934235248, 0.785090904343)     0.078578   \n",
       "Steiner          (-2.51026291425, 0.0291257550818)    -1.240569   \n",
       "Arnold           (-0.505684247677, 0.874236259849)     0.184276   \n",
       "Linden            (-2.57607258663, 0.113109623671)    -1.231481   \n",
       "\n",
       "               Standard Error of the ES     Weight  Year  \n",
       "Bakhshayesh                    0.401276   7.207052  2011  \n",
       "Beauregard                     0.695818   2.965914  2006  \n",
       "Bink                           0.250050  12.775565  2014  \n",
       "Christiansen                   0.427712   6.569916  2014  \n",
       "Gevenlesben                    0.229878  13.825537  2009  \n",
       "Heinrich                       0.542774   4.529531  2004  \n",
       "Maurizio                       0.431803   6.478028  2014  \n",
       "VanDongen                      0.324127   9.579446  2013  \n",
       "Steiner2014                    0.251807  12.687809  2014  \n",
       "Holtmann                       0.360466   8.356655  2009  \n",
       "Steiner                        0.647803   3.360752  2011  \n",
       "Arnold                         0.352021   8.622875  2013  \n",
       "Linden                         0.686016   3.040920  1996  "
      ]
     },
     "metadata": {},
     "output_type": "display_data"
    }
   ],
   "source": [
    "# Results per study\n",
    "df_results_per_study, df_results = pma.run_meta_analysis(df_parents)\n",
    "display(df_results_per_study)"
   ]
  },
  {
   "cell_type": "markdown",
   "metadata": {},
   "source": [
    "The effect size between subject is computed for each study as long with its standard error and its 95% confidence interval. The weight associated to each study is displayed too. A negative effect size is in favor of Neurofeedback."
   ]
  },
  {
   "cell_type": "code",
   "execution_count": 3,
   "metadata": {},
   "outputs": [
    {
     "data": {
      "text/html": [
       "<div>\n",
       "<style>\n",
       "    .dataframe thead tr:only-child th {\n",
       "        text-align: right;\n",
       "    }\n",
       "\n",
       "    .dataframe thead th {\n",
       "        text-align: left;\n",
       "    }\n",
       "\n",
       "    .dataframe tbody tr th {\n",
       "        vertical-align: top;\n",
       "    }\n",
       "</style>\n",
       "<table border=\"1\" class=\"dataframe\">\n",
       "  <thead>\n",
       "    <tr style=\"text-align: right;\">\n",
       "      <th></th>\n",
       "      <th>Chi2</th>\n",
       "      <th>p-value Heterogeneity</th>\n",
       "      <th>Tau2</th>\n",
       "      <th>Summary Effect</th>\n",
       "      <th>Variance Summary Effect</th>\n",
       "      <th>Standard Error Summary Effect</th>\n",
       "      <th>95% Confidence Interval of the Summary Effect</th>\n",
       "      <th>p-value</th>\n",
       "      <th>Heterogeneity</th>\n",
       "    </tr>\n",
       "  </thead>\n",
       "  <tbody>\n",
       "    <tr>\n",
       "      <th>Results</th>\n",
       "      <td>17.931732</td>\n",
       "      <td>0.117779</td>\n",
       "      <td>0.064955</td>\n",
       "      <td>-0.315805</td>\n",
       "      <td>0.016286</td>\n",
       "      <td>0.127618</td>\n",
       "      <td>(-0.565936042992, -0.0656735648961)</td>\n",
       "      <td>0.013338</td>\n",
       "      <td>33.079525</td>\n",
       "    </tr>\n",
       "  </tbody>\n",
       "</table>\n",
       "</div>"
      ],
      "text/plain": [
       "              Chi2  p-value Heterogeneity      Tau2  Summary Effect  \\\n",
       "Results  17.931732               0.117779  0.064955       -0.315805   \n",
       "\n",
       "         Variance Summary Effect  Standard Error Summary Effect  \\\n",
       "Results                 0.016286                       0.127618   \n",
       "\n",
       "        95% Confidence Interval of the Summary Effect   p-value  Heterogeneity  \n",
       "Results           (-0.565936042992, -0.0656735648961)  0.013338      33.079525  "
      ]
     },
     "metadata": {},
     "output_type": "display_data"
    }
   ],
   "source": [
    "# Results of the meta-analysis\n",
    "display(df_results)"
   ]
  },
  {
   "cell_type": "markdown",
   "metadata": {},
   "source": [
    "Results of the meta-analysis are presented here. A negative summar effect is in favor of Neurofeedback."
   ]
  },
  {
   "cell_type": "markdown",
   "metadata": {},
   "source": [
    "## Display the forest plot"
   ]
  },
  {
   "cell_type": "code",
   "execution_count": 4,
   "metadata": {
    "scrolled": true
   },
   "outputs": [
    {
     "data": {
      "image/png": "[encoded data removed]",
      "text/plain": [
       "<matplotlib.figure.Figure at 0x198e1507588>"
      ]
     },
     "metadata": {},
     "output_type": "display_data"
    }
   ],
   "source": [
    "forest_plot = pma.forest_plot(df_results_per_study, df_results)"
   ]
  },
  {
   "cell_type": "markdown",
   "metadata": {},
   "source": [
    "Negative effect sizes are in favor of Neurofeedback."
   ]
  }
 ],
 "metadata": {
  "kernelspec": {
   "display_name": "Python 3",
   "language": "python",
   "name": "python3"
  },
  "language_info": {
   "codemirror_mode": {
    "name": "ipython",
    "version": 3
   },
   "file_extension": ".py",
   "mimetype": "text/x-python",
   "name": "python",
   "nbconvert_exporter": "python",
   "pygments_lexer": "ipython3",
   "version": "3.6.1"
  }
 },
 "nbformat": 4,
 "nbformat_minor": 2
}
