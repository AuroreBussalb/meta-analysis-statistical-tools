{
 "cells": [
  {
   "cell_type": "markdown",
   "metadata": {},
   "source": [
    "# Perform a meta-analysis"
   ]
  },
  {
   "cell_type": "markdown",
   "metadata": {},
   "source": [
    "The replication and update of the meta-analysis is performed thanks to a Python Package. All values required to perform the meta-analysis are stored in a csv file. All csv files used in *Bussalb et al.* are available:\n",
    "1. for the replication with our choices: \n",
    "   * *values_total_meta_analysis_cortese.csv*, \n",
    "   * *values_inattention_meta_analysis_cortese.csv*, \n",
    "   * *values_hyperactivity_meta_analysis_cortese.csv*;\n",
    "2. for the update: \n",
    "   * *values_total_meta_analysis.csv*, \n",
    "   * *values_inattention_meta_analysis.csv*, \n",
    "   * *values_hyperactivity_meta_analysis.csv*;\n",
    "3. for the subgroup analysis: \n",
    "   * standard protocol: \n",
    "     * *values_total_meta_analysis_sd.csv*, \n",
    "     * *values_inattention_meta_analysis_sd.csv*, \n",
    "     * *values_hyperactivity_meta_analysis_sd.csv*;   \n",
    "   * low/no medication: \n",
    "     * *values_total_meta_analysis_wm.csv*, \n",
    "     * *values_inattention_meta_analysis_wm.csv*,\n",
    "     * *values_hyperactivity_meta_analysis_wm.csv*.\n",
    "\n",
    "Meta-analysis can be run for three outcomes: total, inattention and hyperactivity."
   ]
  },
  {
   "cell_type": "markdown",
   "metadata": {},
   "source": [
    "## Import raw data"
   ]
  },
  {
   "cell_type": "markdown",
   "metadata": {},
   "source": [
    "The name of the csv file to import must be modified according to the outcome we want to study. If you had not installed the ```source_assess_treatment_efficacy``` package (see ```README.md```), do not forget to uncomment and change the path given in ```sys.path.append``` (it corresponds to the root path, where the ```source_assess_treatment_efficacy``` package is) and make sure to fulfill the requirements specified in ```requirements.txt```."
   ]
  },
  {
   "cell_type": "code",
   "execution_count": 9,
   "metadata": {
    "collapsed": true
   },
   "outputs": [],
   "source": [
    "import numpy as np\n",
    "import scipy.stats as scp\n",
    "import pandas as pd\n",
    "import warnings\n",
    "import matplotlib.pyplot as plt\n",
    "from IPython.display import display\n",
    "import sys\n",
    "\n",
    "# Add the path where the packages are\n",
    "# sys.path.append(r\"C:\\Users\\Aurore Bussalb\\Desktop\\meta-analysis-statistical-tools\")\n",
    "import source_assess_treatment_efficacy.meta_analysis.import_csv_for_meta_analysis as icm\n",
    "import source_assess_treatment_efficacy.meta_analysis.perform_meta_analysis as pma\n",
    "\n",
    "%matplotlib inline\n",
    "\n",
    "# Import data from a csv file\n",
    "df_parents, df_teachers, df_clinicians = icm.import_csv(r\"data-replication\\values_total_meta_analysis_cortese.csv\")"
   ]
  },
  {
   "cell_type": "markdown",
   "metadata": {},
   "source": [
    "## Run the meta-analysis"
   ]
  },
  {
   "cell_type": "markdown",
   "metadata": {},
   "source": [
    "If you want to run the meta-analysis on parents assessments put ```df_parents``` as ```run_meta_analysis``` first argument, otherwise put ```df_teachers```. For more information, see the documentation of that function in ```documentation\\package-documentation```."
   ]
  },
  {
   "cell_type": "code",
   "execution_count": 10,
   "metadata": {},
   "outputs": [
    {
     "data": {
      "text/html": [
       "<div>\n",
       "<style scoped>\n",
       "    .dataframe tbody tr th:only-of-type {\n",
       "        vertical-align: middle;\n",
       "    }\n",
       "\n",
       "    .dataframe tbody tr th {\n",
       "        vertical-align: top;\n",
       "    }\n",
       "\n",
       "    .dataframe thead th {\n",
       "        text-align: right;\n",
       "    }\n",
       "</style>\n",
       "<table border=\"1\" class=\"dataframe\">\n",
       "  <thead>\n",
       "    <tr style=\"text-align: right;\">\n",
       "      <th></th>\n",
       "      <th>Year</th>\n",
       "      <th>Effect size</th>\n",
       "      <th>Standard Error of the ES</th>\n",
       "      <th>95% Confidence interval of the ES</th>\n",
       "      <th>Weight</th>\n",
       "    </tr>\n",
       "    <tr>\n",
       "      <th>Author</th>\n",
       "      <th></th>\n",
       "      <th></th>\n",
       "      <th></th>\n",
       "      <th></th>\n",
       "      <th></th>\n",
       "    </tr>\n",
       "  </thead>\n",
       "  <tbody>\n",
       "    <tr>\n",
       "      <th>Bakhshayesh</th>\n",
       "      <td>2011</td>\n",
       "      <td>-0.904992</td>\n",
       "      <td>0.417849</td>\n",
       "      <td>(-1.7239760805818745, -0.08600804807978091)</td>\n",
       "      <td>6.456554</td>\n",
       "    </tr>\n",
       "    <tr>\n",
       "      <th>Beauregard</th>\n",
       "      <td>2006</td>\n",
       "      <td>-1.199237</td>\n",
       "      <td>0.692655</td>\n",
       "      <td>(-2.5568406143558624, 0.15836731961650496)</td>\n",
       "      <td>3.118709</td>\n",
       "    </tr>\n",
       "    <tr>\n",
       "      <th>Bink</th>\n",
       "      <td>2014</td>\n",
       "      <td>0.033536</td>\n",
       "      <td>0.250058</td>\n",
       "      <td>(-0.4565771606266108, 0.523648508270089)</td>\n",
       "      <td>10.637426</td>\n",
       "    </tr>\n",
       "    <tr>\n",
       "      <th>Gevenlesben</th>\n",
       "      <td>2009</td>\n",
       "      <td>-0.564512</td>\n",
       "      <td>0.231546</td>\n",
       "      <td>(-1.0183428257121006, -0.11068054575646136)</td>\n",
       "      <td>11.215132</td>\n",
       "    </tr>\n",
       "    <tr>\n",
       "      <th>Maurizio</th>\n",
       "      <td>2014</td>\n",
       "      <td>-0.375000</td>\n",
       "      <td>0.434640</td>\n",
       "      <td>(-1.2268940686925252, 0.47689406869252493)</td>\n",
       "      <td>6.147927</td>\n",
       "    </tr>\n",
       "    <tr>\n",
       "      <th>Holtmann</th>\n",
       "      <td>2009</td>\n",
       "      <td>0.400000</td>\n",
       "      <td>0.374420</td>\n",
       "      <td>(-0.33386356588492205, 1.1338635658849219)</td>\n",
       "      <td>7.342575</td>\n",
       "    </tr>\n",
       "    <tr>\n",
       "      <th>Steiner2014</th>\n",
       "      <td>2014</td>\n",
       "      <td>-0.681376</td>\n",
       "      <td>0.270169</td>\n",
       "      <td>(-1.2109081827220218, -0.15184446757327408)</td>\n",
       "      <td>10.031014</td>\n",
       "    </tr>\n",
       "    <tr>\n",
       "      <th>VanDongen</th>\n",
       "      <td>2013</td>\n",
       "      <td>0.136431</td>\n",
       "      <td>0.323101</td>\n",
       "      <td>(-0.4968464180242921, 0.7697092451366682)</td>\n",
       "      <td>8.565444</td>\n",
       "    </tr>\n",
       "    <tr>\n",
       "      <th>Arnold</th>\n",
       "      <td>2013</td>\n",
       "      <td>0.260080</td>\n",
       "      <td>0.354744</td>\n",
       "      <td>(-0.43521797166151943, 0.9553782619616531)</td>\n",
       "      <td>7.788230</td>\n",
       "    </tr>\n",
       "    <tr>\n",
       "      <th>Linden</th>\n",
       "      <td>1996</td>\n",
       "      <td>-1.220000</td>\n",
       "      <td>0.683079</td>\n",
       "      <td>(-2.558834703928922, 0.11883470392892193)</td>\n",
       "      <td>3.189899</td>\n",
       "    </tr>\n",
       "    <tr>\n",
       "      <th>Steiner</th>\n",
       "      <td>2011</td>\n",
       "      <td>-0.554789</td>\n",
       "      <td>0.515506</td>\n",
       "      <td>(-1.565181300760705, 0.4556028828347858)</td>\n",
       "      <td>4.892568</td>\n",
       "    </tr>\n",
       "    <tr>\n",
       "      <th>Strelh</th>\n",
       "      <td>2017</td>\n",
       "      <td>-0.422702</td>\n",
       "      <td>0.178573</td>\n",
       "      <td>(-0.7727047457480329, -0.0726997581106234)</td>\n",
       "      <td>12.925852</td>\n",
       "    </tr>\n",
       "    <tr>\n",
       "      <th>Minder</th>\n",
       "      <td>2018</td>\n",
       "      <td>0.544642</td>\n",
       "      <td>0.359032</td>\n",
       "      <td>(-0.1590617168261924, 1.248344912175087)</td>\n",
       "      <td>7.688669</td>\n",
       "    </tr>\n",
       "  </tbody>\n",
       "</table>\n",
       "</div>"
      ],
      "text/plain": [
       "             Year  Effect size  Standard Error of the ES  \\\n",
       "Author                                                     \n",
       "Bakhshayesh  2011    -0.904992                  0.417849   \n",
       "Beauregard   2006    -1.199237                  0.692655   \n",
       "Bink         2014     0.033536                  0.250058   \n",
       "Gevenlesben  2009    -0.564512                  0.231546   \n",
       "Maurizio     2014    -0.375000                  0.434640   \n",
       "Holtmann     2009     0.400000                  0.374420   \n",
       "Steiner2014  2014    -0.681376                  0.270169   \n",
       "VanDongen    2013     0.136431                  0.323101   \n",
       "Arnold       2013     0.260080                  0.354744   \n",
       "Linden       1996    -1.220000                  0.683079   \n",
       "Steiner      2011    -0.554789                  0.515506   \n",
       "Strelh       2017    -0.422702                  0.178573   \n",
       "Minder       2018     0.544642                  0.359032   \n",
       "\n",
       "                       95% Confidence interval of the ES     Weight  \n",
       "Author                                                               \n",
       "Bakhshayesh  (-1.7239760805818745, -0.08600804807978091)   6.456554  \n",
       "Beauregard    (-2.5568406143558624, 0.15836731961650496)   3.118709  \n",
       "Bink            (-0.4565771606266108, 0.523648508270089)  10.637426  \n",
       "Gevenlesben  (-1.0183428257121006, -0.11068054575646136)  11.215132  \n",
       "Maurizio      (-1.2268940686925252, 0.47689406869252493)   6.147927  \n",
       "Holtmann      (-0.33386356588492205, 1.1338635658849219)   7.342575  \n",
       "Steiner2014  (-1.2109081827220218, -0.15184446757327408)  10.031014  \n",
       "VanDongen      (-0.4968464180242921, 0.7697092451366682)   8.565444  \n",
       "Arnold        (-0.43521797166151943, 0.9553782619616531)   7.788230  \n",
       "Linden         (-2.558834703928922, 0.11883470392892193)   3.189899  \n",
       "Steiner         (-1.565181300760705, 0.4556028828347858)   4.892568  \n",
       "Strelh        (-0.7727047457480329, -0.0726997581106234)  12.925852  \n",
       "Minder          (-0.1590617168261924, 1.248344912175087)   7.688669  "
      ]
     },
     "metadata": {},
     "output_type": "display_data"
    }
   ],
   "source": [
    "# Results per study\n",
    "df_results_per_study, df_results = pma.run_meta_analysis(df_parents)\n",
    "display(df_results_per_study)"
   ]
  },
  {
   "cell_type": "markdown",
   "metadata": {},
   "source": [
    "The effect size between subject is computed for each study as long with its standard error and its 95% confidence interval. The weight associated to each study is displayed too. A negative effect size is in favor of Neurofeedback."
   ]
  },
  {
   "cell_type": "code",
   "execution_count": 11,
   "metadata": {},
   "outputs": [
    {
     "data": {
      "text/html": [
       "<div>\n",
       "<style scoped>\n",
       "    .dataframe tbody tr th:only-of-type {\n",
       "        vertical-align: middle;\n",
       "    }\n",
       "\n",
       "    .dataframe tbody tr th {\n",
       "        vertical-align: top;\n",
       "    }\n",
       "\n",
       "    .dataframe thead th {\n",
       "        text-align: right;\n",
       "    }\n",
       "</style>\n",
       "<table border=\"1\" class=\"dataframe\">\n",
       "  <thead>\n",
       "    <tr style=\"text-align: right;\">\n",
       "      <th></th>\n",
       "      <th>Chi2</th>\n",
       "      <th>p-value Heterogeneity</th>\n",
       "      <th>Tau2</th>\n",
       "      <th>Summary Effect</th>\n",
       "      <th>Variance Summary Effect</th>\n",
       "      <th>Standard Error Summary Effect</th>\n",
       "      <th>95% Confidence Interval of the Summary Effect</th>\n",
       "      <th>p-value</th>\n",
       "      <th>Heterogeneity</th>\n",
       "    </tr>\n",
       "  </thead>\n",
       "  <tbody>\n",
       "    <tr>\n",
       "      <th>Results</th>\n",
       "      <td>24.704346</td>\n",
       "      <td>0.016288</td>\n",
       "      <td>0.11054</td>\n",
       "      <td>-0.26449</td>\n",
       "      <td>0.01841</td>\n",
       "      <td>0.135684</td>\n",
       "      <td>(-0.530429810169585, 0.001450662721699636)</td>\n",
       "      <td>0.051259</td>\n",
       "      <td>51.42555</td>\n",
       "    </tr>\n",
       "  </tbody>\n",
       "</table>\n",
       "</div>"
      ],
      "text/plain": [
       "              Chi2  p-value Heterogeneity     Tau2  Summary Effect  \\\n",
       "Results  24.704346               0.016288  0.11054        -0.26449   \n",
       "\n",
       "         Variance Summary Effect  Standard Error Summary Effect  \\\n",
       "Results                  0.01841                       0.135684   \n",
       "\n",
       "        95% Confidence Interval of the Summary Effect   p-value  Heterogeneity  \n",
       "Results    (-0.530429810169585, 0.001450662721699636)  0.051259       51.42555  "
      ]
     },
     "metadata": {},
     "output_type": "display_data"
    }
   ],
   "source": [
    "# Results of the meta-analysis\n",
    "display(df_results)"
   ]
  },
  {
   "cell_type": "markdown",
   "metadata": {},
   "source": [
    "Results of the meta-analysis are presented here. A negative summary effect is in favor of Neurofeedback."
   ]
  },
  {
   "cell_type": "markdown",
   "metadata": {},
   "source": [
    "## Display the forest plot"
   ]
  },
  {
   "cell_type": "code",
   "execution_count": 12,
   "metadata": {},
   "outputs": [
    {
     "data": {
      "image/png": "[encoded data removed]",
      "text/plain": [
       "<Figure size 432x288 with 1 Axes>"
      ]
     },
     "metadata": {
      "needs_background": "light"
     },
     "output_type": "display_data"
    }
   ],
   "source": [
    "forest_plot = pma.forest_plot(df_results_per_study, df_results)"
   ]
  },
  {
   "cell_type": "markdown",
   "metadata": {},
   "source": [
    "Negative effect sizes are in favor of Neurofeedback. Effects size are represented by a blue square whose size is propotional to the weight of the study. 95% confidence interval are displayed in green. The summary effect corresponds to the blue diamond."
   ]
  },
  {
   "cell_type": "code",
   "execution_count": null,
   "metadata": {
    "collapsed": true
   },
   "outputs": [],
   "source": []
  }
 ],
 "metadata": {
  "kernelspec": {
   "display_name": "treatment-efficacy-env",
   "language": "python",
   "name": "treatment-efficacy-env"
  },
  "language_info": {
   "codemirror_mode": {
    "name": "ipython",
    "version": 3
   },
   "file_extension": ".py",
   "mimetype": "text/x-python",
   "name": "python",
   "nbconvert_exporter": "python",
   "pygments_lexer": "ipython3",
   "version": "3.7.1"
  }
 },
 "nbformat": 4,
 "nbformat_minor": 2
}
