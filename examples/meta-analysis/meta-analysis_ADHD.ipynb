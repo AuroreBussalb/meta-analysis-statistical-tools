{
 "cells": [
  {
   "cell_type": "markdown",
   "metadata": {},
   "source": [
    "# Perform a meta-analysis"
   ]
  },
  {
   "cell_type": "markdown",
   "metadata": {},
   "source": [
    "The replication and update of the meta-analysis is performed thanks to a Python Package. All values required to perform the meta-analysis are stored in a csv file. All csv files used in *Bussalb et al.* are available:\n",
    "1. for the replication with our choices: \n",
    "   * *values_total_meta_analysis_cortese.csv*, \n",
    "   * *values_inattention_meta_analysis_cortese.csv*, \n",
    "   * *values_hyperactivity_meta_analysis_cortese.csv*;\n",
    "2. for the update: \n",
    "   * *values_total_meta_analysis.csv*, \n",
    "   * *values_inattention_meta_analysis.csv*, \n",
    "   * *values_hyperactivity_meta_analysis.csv*;\n",
    "3. for the subgroup analysis: \n",
    "   * standard protocol: \n",
    "     * *values_total_meta_analysis_sd.csv*, \n",
    "     * *values_inattention_meta_analysis_sd.csv*, \n",
    "     * *values_hyperactivity_meta_analysis_sd.csv*;   \n",
    "   * low/no medication: \n",
    "     * *values_total_meta_analysis_wm.csv*, \n",
    "     * *values_inattention_meta_analysis_wm.csv*,\n",
    "     * *values_hyperactivity_meta_analysis_wm.csv*.\n",
    "\n",
    "Meta-analysis can be run for three outcomes: total, inattention and hyperactivity."
   ]
  },
  {
   "cell_type": "markdown",
   "metadata": {},
   "source": [
    "## Import raw data"
   ]
  },
  {
   "cell_type": "markdown",
   "metadata": {},
   "source": [
    "The name of the csv file to import must be modified according to the outcome we want to study. If you had not installed the ```source_assess_NFB_efficacy``` package (see ```README.md```), do not forget to uncomment and change the path given in ```sys.path.append``` (it corresponds to the root path, where the ```source_assess_NFB_efficacy``` package is) and make sure to fulfill the requirements specified in ```requirements.txt```."
   ]
  },
  {
   "cell_type": "code",
   "execution_count": 13,
   "metadata": {
    "collapsed": true
   },
   "outputs": [],
   "source": [
    "import numpy as np\n",
    "import scipy.stats as scp\n",
    "import pandas as pd\n",
    "import warnings\n",
    "import matplotlib.pyplot as plt\n",
    "from IPython.display import display\n",
    "import sys\n",
    "\n",
    "# Add the path where the packages are\n",
    "# sys.path.append(r\"C:\\Users\\Aurore Bussalb\\Desktop\\github_repo\")\n",
    "import source_assess_NFB_efficacy.meta_analysis.import_csv_for_meta_analysis as icm\n",
    "import source_assess_NFB_efficacy.meta_analysis.perform_meta_analysis as pma\n",
    "\n",
    "%matplotlib inline\n",
    "\n",
    "# Import data from a csv file\n",
    "df_parents, df_teachers = icm.import_csv(r\"data-replication\\values_total_meta_analysis_cortese.csv\")"
   ]
  },
  {
   "cell_type": "markdown",
   "metadata": {},
   "source": [
    "## Run the meta-analysis"
   ]
  },
  {
   "cell_type": "markdown",
   "metadata": {},
   "source": [
    "If you want to run the meta-analysis on parents assessments put ```df_parents``` as ```run_meta_analysis``` first argument, otherwise put ```df_teachers```. For more information, see the documentation of that function in ```documentation\\package-documentation```."
   ]
  },
  {
   "cell_type": "code",
   "execution_count": 14,
   "metadata": {},
   "outputs": [
    {
     "data": {
      "text/html": [
       "<div>\n",
       "<style scoped>\n",
       "    .dataframe tbody tr th:only-of-type {\n",
       "        vertical-align: middle;\n",
       "    }\n",
       "\n",
       "    .dataframe tbody tr th {\n",
       "        vertical-align: top;\n",
       "    }\n",
       "\n",
       "    .dataframe thead th {\n",
       "        text-align: right;\n",
       "    }\n",
       "</style>\n",
       "<table border=\"1\" class=\"dataframe\">\n",
       "  <thead>\n",
       "    <tr style=\"text-align: right;\">\n",
       "      <th></th>\n",
       "      <th>Year</th>\n",
       "      <th>Effect size</th>\n",
       "      <th>Standard Error of the ES</th>\n",
       "      <th>95% Confidence interval of the ES</th>\n",
       "      <th>Weight</th>\n",
       "    </tr>\n",
       "  </thead>\n",
       "  <tbody>\n",
       "    <tr>\n",
       "      <th>Bakhshayesh</th>\n",
       "      <td>2011</td>\n",
       "      <td>-0.780126</td>\n",
       "      <td>0.401276</td>\n",
       "      <td>(-1.5666273054617594, 0.00637572245143081)</td>\n",
       "      <td>7.207052</td>\n",
       "    </tr>\n",
       "    <tr>\n",
       "      <th>Beauregard</th>\n",
       "      <td>2006</td>\n",
       "      <td>-1.213794</td>\n",
       "      <td>0.695818</td>\n",
       "      <td>(-2.577596706606846, 0.15000811911844592)</td>\n",
       "      <td>2.965914</td>\n",
       "    </tr>\n",
       "    <tr>\n",
       "      <th>Bink</th>\n",
       "      <td>2014</td>\n",
       "      <td>-0.031668</td>\n",
       "      <td>0.250050</td>\n",
       "      <td>(-0.5217661378244995, 0.4584310306371226)</td>\n",
       "      <td>12.775565</td>\n",
       "    </tr>\n",
       "    <tr>\n",
       "      <th>Christiansen</th>\n",
       "      <td>2014</td>\n",
       "      <td>0.581470</td>\n",
       "      <td>0.427712</td>\n",
       "      <td>(-0.2568455253966193, 1.4197852949064305)</td>\n",
       "      <td>6.569916</td>\n",
       "    </tr>\n",
       "    <tr>\n",
       "      <th>Gevenlesben</th>\n",
       "      <td>2009</td>\n",
       "      <td>-0.532936</td>\n",
       "      <td>0.229878</td>\n",
       "      <td>(-0.9834961096327928, -0.08237582613280586)</td>\n",
       "      <td>13.825537</td>\n",
       "    </tr>\n",
       "    <tr>\n",
       "      <th>Heinrich</th>\n",
       "      <td>2004</td>\n",
       "      <td>-0.878119</td>\n",
       "      <td>0.542774</td>\n",
       "      <td>(-1.9419571680880487, 0.18571818889605185)</td>\n",
       "      <td>4.529531</td>\n",
       "    </tr>\n",
       "    <tr>\n",
       "      <th>Maurizio</th>\n",
       "      <td>2014</td>\n",
       "      <td>-0.338844</td>\n",
       "      <td>0.431803</td>\n",
       "      <td>(-1.1851779801298847, 0.5074893344252173)</td>\n",
       "      <td>6.478028</td>\n",
       "    </tr>\n",
       "    <tr>\n",
       "      <th>VanDongen</th>\n",
       "      <td>2013</td>\n",
       "      <td>-0.175774</td>\n",
       "      <td>0.324127</td>\n",
       "      <td>(-0.8110623760127516, 0.45951452408491483)</td>\n",
       "      <td>9.579446</td>\n",
       "    </tr>\n",
       "    <tr>\n",
       "      <th>Steiner2014</th>\n",
       "      <td>2014</td>\n",
       "      <td>-0.384685</td>\n",
       "      <td>0.251807</td>\n",
       "      <td>(-0.8782269334333559, 0.10885735094663274)</td>\n",
       "      <td>12.687809</td>\n",
       "    </tr>\n",
       "    <tr>\n",
       "      <th>Holtmann</th>\n",
       "      <td>2009</td>\n",
       "      <td>0.078578</td>\n",
       "      <td>0.360466</td>\n",
       "      <td>(-0.6279342352479539, 0.7850909043427797)</td>\n",
       "      <td>8.356655</td>\n",
       "    </tr>\n",
       "    <tr>\n",
       "      <th>Steiner</th>\n",
       "      <td>2011</td>\n",
       "      <td>-1.240569</td>\n",
       "      <td>0.647803</td>\n",
       "      <td>(-2.510262914251439, 0.02912575508180848)</td>\n",
       "      <td>3.360752</td>\n",
       "    </tr>\n",
       "    <tr>\n",
       "      <th>Arnold</th>\n",
       "      <td>2013</td>\n",
       "      <td>0.184276</td>\n",
       "      <td>0.352021</td>\n",
       "      <td>(-0.5056842476770429, 0.8742362598489)</td>\n",
       "      <td>8.622875</td>\n",
       "    </tr>\n",
       "    <tr>\n",
       "      <th>Linden</th>\n",
       "      <td>1996</td>\n",
       "      <td>-1.231481</td>\n",
       "      <td>0.686016</td>\n",
       "      <td>(-2.5760725866338507, 0.11310962367088773)</td>\n",
       "      <td>3.040920</td>\n",
       "    </tr>\n",
       "  </tbody>\n",
       "</table>\n",
       "</div>"
      ],
      "text/plain": [
       "               Year  Effect size  Standard Error of the ES  \\\n",
       "Bakhshayesh    2011    -0.780126                  0.401276   \n",
       "Beauregard     2006    -1.213794                  0.695818   \n",
       "Bink           2014    -0.031668                  0.250050   \n",
       "Christiansen   2014     0.581470                  0.427712   \n",
       "Gevenlesben    2009    -0.532936                  0.229878   \n",
       "Heinrich       2004    -0.878119                  0.542774   \n",
       "Maurizio       2014    -0.338844                  0.431803   \n",
       "VanDongen      2013    -0.175774                  0.324127   \n",
       "Steiner2014    2014    -0.384685                  0.251807   \n",
       "Holtmann       2009     0.078578                  0.360466   \n",
       "Steiner        2011    -1.240569                  0.647803   \n",
       "Arnold         2013     0.184276                  0.352021   \n",
       "Linden         1996    -1.231481                  0.686016   \n",
       "\n",
       "                         95% Confidence interval of the ES     Weight  \n",
       "Bakhshayesh     (-1.5666273054617594, 0.00637572245143081)   7.207052  \n",
       "Beauregard       (-2.577596706606846, 0.15000811911844592)   2.965914  \n",
       "Bink             (-0.5217661378244995, 0.4584310306371226)  12.775565  \n",
       "Christiansen     (-0.2568455253966193, 1.4197852949064305)   6.569916  \n",
       "Gevenlesben    (-0.9834961096327928, -0.08237582613280586)  13.825537  \n",
       "Heinrich        (-1.9419571680880487, 0.18571818889605185)   4.529531  \n",
       "Maurizio         (-1.1851779801298847, 0.5074893344252173)   6.478028  \n",
       "VanDongen       (-0.8110623760127516, 0.45951452408491483)   9.579446  \n",
       "Steiner2014     (-0.8782269334333559, 0.10885735094663274)  12.687809  \n",
       "Holtmann         (-0.6279342352479539, 0.7850909043427797)   8.356655  \n",
       "Steiner          (-2.510262914251439, 0.02912575508180848)   3.360752  \n",
       "Arnold              (-0.5056842476770429, 0.8742362598489)   8.622875  \n",
       "Linden          (-2.5760725866338507, 0.11310962367088773)   3.040920  "
      ]
     },
     "metadata": {},
     "output_type": "display_data"
    }
   ],
   "source": [
    "# Results per study\n",
    "df_results_per_study, df_results = pma.run_meta_analysis(df_parents)\n",
    "display(df_results_per_study)"
   ]
  },
  {
   "cell_type": "markdown",
   "metadata": {},
   "source": [
    "The effect size between subject is computed for each study as long with its standard error and its 95% confidence interval. The weight associated to each study is displayed too. A negative effect size is in favor of Neurofeedback."
   ]
  },
  {
   "cell_type": "code",
   "execution_count": 15,
   "metadata": {},
   "outputs": [
    {
     "data": {
      "text/html": [
       "<div>\n",
       "<style scoped>\n",
       "    .dataframe tbody tr th:only-of-type {\n",
       "        vertical-align: middle;\n",
       "    }\n",
       "\n",
       "    .dataframe tbody tr th {\n",
       "        vertical-align: top;\n",
       "    }\n",
       "\n",
       "    .dataframe thead th {\n",
       "        text-align: right;\n",
       "    }\n",
       "</style>\n",
       "<table border=\"1\" class=\"dataframe\">\n",
       "  <thead>\n",
       "    <tr style=\"text-align: right;\">\n",
       "      <th></th>\n",
       "      <th>Chi2</th>\n",
       "      <th>p-value Heterogeneity</th>\n",
       "      <th>Tau2</th>\n",
       "      <th>Summary Effect</th>\n",
       "      <th>Variance Summary Effect</th>\n",
       "      <th>Standard Error Summary Effect</th>\n",
       "      <th>95% Confidence Interval of the Summary Effect</th>\n",
       "      <th>p-value</th>\n",
       "      <th>Heterogeneity</th>\n",
       "    </tr>\n",
       "  </thead>\n",
       "  <tbody>\n",
       "    <tr>\n",
       "      <th>Results</th>\n",
       "      <td>17.931732</td>\n",
       "      <td>0.117779</td>\n",
       "      <td>0.064955</td>\n",
       "      <td>-0.315805</td>\n",
       "      <td>0.016286</td>\n",
       "      <td>0.127618</td>\n",
       "      <td>(-0.5659360429915061, -0.0656735648961348)</td>\n",
       "      <td>0.013338</td>\n",
       "      <td>33.079525</td>\n",
       "    </tr>\n",
       "  </tbody>\n",
       "</table>\n",
       "</div>"
      ],
      "text/plain": [
       "              Chi2  p-value Heterogeneity      Tau2  Summary Effect  \\\n",
       "Results  17.931732               0.117779  0.064955       -0.315805   \n",
       "\n",
       "         Variance Summary Effect  Standard Error Summary Effect  \\\n",
       "Results                 0.016286                       0.127618   \n",
       "\n",
       "        95% Confidence Interval of the Summary Effect   p-value  Heterogeneity  \n",
       "Results    (-0.5659360429915061, -0.0656735648961348)  0.013338      33.079525  "
      ]
     },
     "metadata": {},
     "output_type": "display_data"
    }
   ],
   "source": [
    "# Results of the meta-analysis\n",
    "display(df_results)"
   ]
  },
  {
   "cell_type": "markdown",
   "metadata": {},
   "source": [
    "Results of the meta-analysis are presented here. A negative summary effect is in favor of Neurofeedback."
   ]
  },
  {
   "cell_type": "markdown",
   "metadata": {},
   "source": [
    "## Display the forest plot"
   ]
  },
  {
   "cell_type": "code",
   "execution_count": 16,
   "metadata": {},
   "outputs": [
    {
     "data": {
      "image/png": "[encoded data removed]",
      "text/plain": [
       "<Figure size 432x288 with 1 Axes>"
      ]
     },
     "metadata": {},
     "output_type": "display_data"
    }
   ],
   "source": [
    "forest_plot = pma.forest_plot(df_results_per_study, df_results)"
   ]
  },
  {
   "cell_type": "markdown",
   "metadata": {},
   "source": [
    "Negative effect sizes are in favor of Neurofeedback. Effects size are represented by a blue square whose size is propotional to the weight of the study. 95% confidence interval are displayed in green. The summary effect corresponds to the blue diamond."
   ]
  }
 ],
 "metadata": {
  "kernelspec": {
   "display_name": "NFB-efficacy-env",
   "language": "python",
   "name": "nfb-efficacy-env"
  },
  "language_info": {
   "codemirror_mode": {
    "name": "ipython",
    "version": 3
   },
   "file_extension": ".py",
   "mimetype": "text/x-python",
   "name": "python",
   "nbconvert_exporter": "python",
   "pygments_lexer": "ipython3",
   "version": "3.7.0"
  }
 },
 "nbformat": 4,
 "nbformat_minor": 2
}
