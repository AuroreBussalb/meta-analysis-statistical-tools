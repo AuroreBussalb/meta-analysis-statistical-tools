{
 "cells": [
  {
   "cell_type": "markdown",
   "metadata": {},
   "source": [
    "# Perform a meta-analysis"
   ]
  },
  {
   "cell_type": "markdown",
   "metadata": {},
   "source": [
    "The replication and update of the meta-analysis is performed thanks to a Python Package. All values required to perform the meta-analysis are stored in a csv file. All csv files used in *Bussalb et al.* are available:\n",
    "1. for the replication with our choices: \n",
    "   * *values_total_meta_analysis_cortese.csv*, \n",
    "   * *values_inattention_meta_analysis_cortese.csv*, \n",
    "   * *values_hyperactivity_meta_analysis_cortese.csv*;\n",
    "2. for the update: \n",
    "   * *values_total_meta_analysis.csv*, \n",
    "   * *values_inattention_meta_analysis.csv*, \n",
    "   * *values_hyperactivity_meta_analysis.csv*;\n",
    "3. for the subgroup analysis: \n",
    "   * standard protocol: \n",
    "     * *values_total_meta_analysis_sd.csv*, \n",
    "     * *values_inattention_meta_analysis_sd.csv*, \n",
    "     * *values_hyperactivity_meta_analysis_sd.csv*;   \n",
    "   * low/no medication: \n",
    "     * *values_total_meta_analysis_wm.csv*, \n",
    "     * *values_inattention_meta_analysis_wm.csv*,\n",
    "     * *values_hyperactivity_meta_analysis_wm.csv*.\n",
    "\n",
    "Meta-analysis can be run for three outcomes: total, inattention and hyperactivity."
   ]
  },
  {
   "cell_type": "markdown",
   "metadata": {},
   "source": [
    "## Import raw data"
   ]
  },
  {
   "cell_type": "markdown",
   "metadata": {},
   "source": [
    "The name of the csv file to import must be modified according to the outcome we want to study. If you had not installed the ```source_assess_treatment_efficacy``` package (see ```README.md```), do not forget to uncomment and change the path given in ```sys.path.append``` (it corresponds to the root path, where the ```source_assess_treatment_efficacy``` package is) and make sure to fulfill the requirements specified in ```requirements.txt```."
   ]
  },
  {
   "cell_type": "code",
   "execution_count": 1,
   "metadata": {
    "scrolled": false
   },
   "outputs": [],
   "source": [
    "import numpy as np\n",
    "import scipy.stats as scp\n",
    "import pandas as pd\n",
    "import warnings\n",
    "import matplotlib.pyplot as plt\n",
    "from IPython.display import display\n",
    "import sys\n",
    "\n",
    "# Add the path where the packages are\n",
    "# sys.path.append(r\"C:\\Users\\Aurore Bussalb\\Desktop\\github_repo\\meta-analysis-statistical-tools\")\n",
    "import source_assess_treatment_efficacy.meta_analysis.import_csv_for_meta_analysis as icm\n",
    "import source_assess_treatment_efficacy.meta_analysis.perform_meta_analysis as pma\n",
    "\n",
    "%matplotlib inline\n",
    "\n",
    "# Import data from a csv file\n",
    "df_parents, df_teachers, df_clinicians = icm.import_csv(r\"data-update\\values_total_meta_analysis.csv\")"
   ]
  },
  {
   "cell_type": "markdown",
   "metadata": {},
   "source": [
    "## Run the meta-analysis"
   ]
  },
  {
   "cell_type": "markdown",
   "metadata": {},
   "source": [
    "If you want to run the meta-analysis on parents assessments put ```df_parents``` as ```run_meta_analysis``` first argument, otherwise put ```df_teachers```. For more information, see the documentation of that module in ```documentation\\package-documentation```."
   ]
  },
  {
   "cell_type": "code",
   "execution_count": 2,
   "metadata": {},
   "outputs": [
    {
     "data": {
      "text/html": [
       "<div>\n",
       "<style scoped>\n",
       "    .dataframe tbody tr th:only-of-type {\n",
       "        vertical-align: middle;\n",
       "    }\n",
       "\n",
       "    .dataframe tbody tr th {\n",
       "        vertical-align: top;\n",
       "    }\n",
       "\n",
       "    .dataframe thead th {\n",
       "        text-align: right;\n",
       "    }\n",
       "</style>\n",
       "<table border=\"1\" class=\"dataframe\">\n",
       "  <thead>\n",
       "    <tr style=\"text-align: right;\">\n",
       "      <th></th>\n",
       "      <th>Year</th>\n",
       "      <th>Effect size</th>\n",
       "      <th>Standard Error of the ES</th>\n",
       "      <th>95% Confidence interval of the ES</th>\n",
       "      <th>Weight</th>\n",
       "    </tr>\n",
       "    <tr>\n",
       "      <th>Author</th>\n",
       "      <th></th>\n",
       "      <th></th>\n",
       "      <th></th>\n",
       "      <th></th>\n",
       "      <th></th>\n",
       "    </tr>\n",
       "  </thead>\n",
       "  <tbody>\n",
       "    <tr>\n",
       "      <th>Bakhshayesh</th>\n",
       "      <td>2011.0</td>\n",
       "      <td>-0.407214</td>\n",
       "      <td>0.363946</td>\n",
       "      <td>(-1.1205483262221743, 0.3061198628742419)</td>\n",
       "      <td>6.933568</td>\n",
       "    </tr>\n",
       "    <tr>\n",
       "      <th>Christiansen</th>\n",
       "      <td>2014.0</td>\n",
       "      <td>-0.178099</td>\n",
       "      <td>0.382138</td>\n",
       "      <td>(-0.9270897965984559, 0.5708923318612351)</td>\n",
       "      <td>6.289114</td>\n",
       "    </tr>\n",
       "    <tr>\n",
       "      <th>Gevenlesben</th>\n",
       "      <td>2009.0</td>\n",
       "      <td>-0.421533</td>\n",
       "      <td>0.224679</td>\n",
       "      <td>(-0.8619049989069667, 0.018838184952962467)</td>\n",
       "      <td>18.192993</td>\n",
       "    </tr>\n",
       "    <tr>\n",
       "      <th>Maurizio</th>\n",
       "      <td>2014.0</td>\n",
       "      <td>0.104359</td>\n",
       "      <td>0.420186</td>\n",
       "      <td>(-0.7192056925981264, 0.9279227788974002)</td>\n",
       "      <td>5.201730</td>\n",
       "    </tr>\n",
       "    <tr>\n",
       "      <th>VanDongen</th>\n",
       "      <td>2013.0</td>\n",
       "      <td>0.145072</td>\n",
       "      <td>0.323304</td>\n",
       "      <td>(-0.4886041657194486, 0.778748857059959)</td>\n",
       "      <td>8.786330</td>\n",
       "    </tr>\n",
       "    <tr>\n",
       "      <th>Steiner2014</th>\n",
       "      <td>2014.0</td>\n",
       "      <td>-0.055172</td>\n",
       "      <td>0.242930</td>\n",
       "      <td>(-0.5313143834237865, 0.42096973209662486)</td>\n",
       "      <td>15.562152</td>\n",
       "    </tr>\n",
       "    <tr>\n",
       "      <th>Steiner</th>\n",
       "      <td>2011.0</td>\n",
       "      <td>0.263350</td>\n",
       "      <td>0.485738</td>\n",
       "      <td>(-0.6886976109738673, 1.2153972148609404)</td>\n",
       "      <td>3.892473</td>\n",
       "    </tr>\n",
       "    <tr>\n",
       "      <th>Arnold</th>\n",
       "      <td>2013.0</td>\n",
       "      <td>0.334916</td>\n",
       "      <td>0.358312</td>\n",
       "      <td>(-0.367376405402032, 1.037207491729418)</td>\n",
       "      <td>7.153315</td>\n",
       "    </tr>\n",
       "    <tr>\n",
       "      <th>Strelh</th>\n",
       "      <td>2017.0</td>\n",
       "      <td>-0.118609</td>\n",
       "      <td>0.181145</td>\n",
       "      <td>(-0.47365371705619513, 0.2364354967116003)</td>\n",
       "      <td>27.988325</td>\n",
       "    </tr>\n",
       "  </tbody>\n",
       "</table>\n",
       "</div>"
      ],
      "text/plain": [
       "                 Year  Effect size  Standard Error of the ES  \\\n",
       "Author                                                         \n",
       "Bakhshayesh    2011.0    -0.407214                  0.363946   \n",
       "Christiansen   2014.0    -0.178099                  0.382138   \n",
       "Gevenlesben    2009.0    -0.421533                  0.224679   \n",
       "Maurizio       2014.0     0.104359                  0.420186   \n",
       "VanDongen      2013.0     0.145072                  0.323304   \n",
       "Steiner2014    2014.0    -0.055172                  0.242930   \n",
       "Steiner        2011.0     0.263350                  0.485738   \n",
       "Arnold         2013.0     0.334916                  0.358312   \n",
       "Strelh         2017.0    -0.118609                  0.181145   \n",
       "\n",
       "                         95% Confidence interval of the ES     Weight  \n",
       "Author                                                                 \n",
       "Bakhshayesh      (-1.1205483262221743, 0.3061198628742419)   6.933568  \n",
       "Christiansen     (-0.9270897965984559, 0.5708923318612351)   6.289114  \n",
       "Gevenlesben    (-0.8619049989069667, 0.018838184952962467)  18.192993  \n",
       "Maurizio         (-0.7192056925981264, 0.9279227788974002)   5.201730  \n",
       "VanDongen         (-0.4886041657194486, 0.778748857059959)   8.786330  \n",
       "Steiner2014     (-0.5313143834237865, 0.42096973209662486)  15.562152  \n",
       "Steiner          (-0.6886976109738673, 1.2153972148609404)   3.892473  \n",
       "Arnold             (-0.367376405402032, 1.037207491729418)   7.153315  \n",
       "Strelh          (-0.47365371705619513, 0.2364354967116003)  27.988325  "
      ]
     },
     "metadata": {},
     "output_type": "display_data"
    }
   ],
   "source": [
    "# Results per study\n",
    "df_results_per_study, df_results, ES = pma.run_meta_analysis(df_teachers)\n",
    "display(df_results_per_study)"
   ]
  },
  {
   "cell_type": "markdown",
   "metadata": {},
   "source": [
    "The effect size between subject is computed for each study as long with its standard error and its 95% confidence interval. The weight associated to each study is displayed too. A negative effect size is in favor of Neurofeedback."
   ]
  },
  {
   "cell_type": "code",
   "execution_count": 3,
   "metadata": {},
   "outputs": [
    {
     "data": {
      "text/html": [
       "<div>\n",
       "<style scoped>\n",
       "    .dataframe tbody tr th:only-of-type {\n",
       "        vertical-align: middle;\n",
       "    }\n",
       "\n",
       "    .dataframe tbody tr th {\n",
       "        vertical-align: top;\n",
       "    }\n",
       "\n",
       "    .dataframe thead th {\n",
       "        text-align: right;\n",
       "    }\n",
       "</style>\n",
       "<table border=\"1\" class=\"dataframe\">\n",
       "  <thead>\n",
       "    <tr style=\"text-align: right;\">\n",
       "      <th></th>\n",
       "      <th>Chi2</th>\n",
       "      <th>p-value Heterogeneity</th>\n",
       "      <th>Tau2</th>\n",
       "      <th>Summary Effect</th>\n",
       "      <th>Variance Summary Effect</th>\n",
       "      <th>Standard Error Summary Effect</th>\n",
       "      <th>95% Confidence Interval of the Summary Effect</th>\n",
       "      <th>p-value</th>\n",
       "      <th>Heterogeneity</th>\n",
       "    </tr>\n",
       "  </thead>\n",
       "  <tbody>\n",
       "    <tr>\n",
       "      <th>Results</th>\n",
       "      <td>5.687551</td>\n",
       "      <td>0.682184</td>\n",
       "      <td>0</td>\n",
       "      <td>-0.105524</td>\n",
       "      <td>0.009184</td>\n",
       "      <td>0.095833</td>\n",
       "      <td>(-0.29335696042388404, 0.08230858712586096)</td>\n",
       "      <td>0.270842</td>\n",
       "      <td>0</td>\n",
       "    </tr>\n",
       "  </tbody>\n",
       "</table>\n",
       "</div>"
      ],
      "text/plain": [
       "             Chi2  p-value Heterogeneity  Tau2  Summary Effect  \\\n",
       "Results  5.687551               0.682184     0       -0.105524   \n",
       "\n",
       "         Variance Summary Effect  Standard Error Summary Effect  \\\n",
       "Results                 0.009184                       0.095833   \n",
       "\n",
       "        95% Confidence Interval of the Summary Effect   p-value  Heterogeneity  \n",
       "Results   (-0.29335696042388404, 0.08230858712586096)  0.270842              0  "
      ]
     },
     "metadata": {},
     "output_type": "display_data"
    }
   ],
   "source": [
    "# Results of the meta-analysis\n",
    "display(df_results)"
   ]
  },
  {
   "cell_type": "markdown",
   "metadata": {},
   "source": [
    "Results of the meta-analysis are presented here. A negative summar effect is in favor of Neurofeedback."
   ]
  },
  {
   "cell_type": "markdown",
   "metadata": {},
   "source": [
    "## Display the forest plot"
   ]
  },
  {
   "cell_type": "code",
   "execution_count": 4,
   "metadata": {
    "scrolled": true
   },
   "outputs": [
    {
     "data": {
      "image/png": "[encoded data removed]",
      "text/plain": [
       "<Figure size 432x288 with 1 Axes>"
      ]
     },
     "metadata": {
      "needs_background": "light"
     },
     "output_type": "display_data"
    }
   ],
   "source": [
    "forest_plot = pma.forest_plot(df_results_per_study, df_results)"
   ]
  },
  {
   "cell_type": "markdown",
   "metadata": {},
   "source": [
    "Negative effect sizes are in favor of Neurofeedback."
   ]
  }
 ],
 "metadata": {
  "kernelspec": {
   "display_name": "treatment-efficacy-env",
   "language": "python",
   "name": "treatment-efficacy-env"
  },
  "language_info": {
   "codemirror_mode": {
    "name": "ipython",
    "version": 3
   },
   "file_extension": ".py",
   "mimetype": "text/x-python",
   "name": "python",
   "nbconvert_exporter": "python",
   "pygments_lexer": "ipython3",
   "version": "3.7.2"
  }
 },
 "nbformat": 4,
 "nbformat_minor": 2
}
